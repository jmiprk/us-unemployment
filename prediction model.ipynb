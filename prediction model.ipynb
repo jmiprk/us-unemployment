{
 "cells": [
  {
   "cell_type": "code",
   "execution_count": 1,
   "id": "bac2040b",
   "metadata": {},
   "outputs": [],
   "source": [
    "import pandas as pd\n",
    "import numpy as np\n",
    "import seaborn as sns\n",
    "from datetime import datetime\n",
    "import matplotlib.pyplot as plt"
   ]
  },
  {
   "cell_type": "markdown",
   "id": "cdf4949d",
   "metadata": {},
   "source": [
    "### graphing the unemployment time-series"
   ]
  },
  {
   "cell_type": "code",
   "execution_count": 172,
   "id": "b0c91085",
   "metadata": {},
   "outputs": [],
   "source": [
    "us_rates = pd.read_csv('data/UNRATE.csv')"
   ]
  },
  {
   "cell_type": "code",
   "execution_count": 173,
   "id": "8d30a1f8",
   "metadata": {},
   "outputs": [],
   "source": [
    "us_rates.columns = us_rates.columns.str.lower()"
   ]
  },
  {
   "cell_type": "code",
   "execution_count": 174,
   "id": "165e3def",
   "metadata": {},
   "outputs": [],
   "source": [
    "us_rates.loc[:, 'date'] = us_rates.loc[:, 'date'].apply(lambda x: datetime.strptime(x, '%Y-%m-%d'))"
   ]
  },
  {
   "cell_type": "code",
   "execution_count": 175,
   "id": "b1af713a",
   "metadata": {},
   "outputs": [],
   "source": [
    "us_rates = us_rates.query('date>=2000').reset_index(drop=True)"
   ]
  },
  {
   "cell_type": "code",
   "execution_count": 6,
   "id": "f0977b7a",
   "metadata": {},
   "outputs": [
    {
     "data": {
      "image/png": "[encoded data removed]",
      "text/plain": [
       "<Figure size 864x360 with 1 Axes>"
      ]
     },
     "metadata": {
      "needs_background": "light"
     },
     "output_type": "display_data"
    }
   ],
   "source": [
    "import matplotlib.dates as mdates\n",
    "\n",
    "plt.figure(figsize=(12,5))\n",
    "ax = sns.lineplot(data=us_rates, x='date', y='unrate')\n",
    "plt.xlabel('Date')\n",
    "plt.ylabel('Unemployment Rate')\n",
    "ax.xaxis.set_major_locator(mdates.YearLocator(base=2))\n",
    "ax.xaxis.set_major_formatter(mdates.DateFormatter('%Y'))"
   ]
  },
  {
   "cell_type": "code",
   "execution_count": 202,
   "id": "edfba0cc",
   "metadata": {},
   "outputs": [
    {
     "data": {
      "text/plain": [
       "<AxesSubplot:xlabel='unrate'>"
      ]
     },
     "execution_count": 202,
     "metadata": {},
     "output_type": "execute_result"
    },
    {
     "data": {
      "image/png": "[encoded data removed]",
      "text/plain": [
       "<Figure size 432x288 with 1 Axes>"
      ]
     },
     "metadata": {
      "needs_background": "light"
     },
     "output_type": "display_data"
    }
   ],
   "source": [
    "sns.boxplot(x=us_rates['unrate'])"
   ]
  },
  {
   "cell_type": "markdown",
   "id": "749bf724",
   "metadata": {},
   "source": [
    "### creating the ARIMA model and forecasting unemployment for 2020-01 to 2022-09"
   ]
  },
  {
   "cell_type": "code",
   "execution_count": 7,
   "id": "82d69a6e",
   "metadata": {},
   "outputs": [],
   "source": [
    "train = us_rates.query('date<2020')\n",
    "test = us_rates.query('date>=2020')\n",
    "y_train = train['unrate']\n",
    "y_test = test['unrate']"
   ]
  },
  {
   "cell_type": "code",
   "execution_count": 8,
   "id": "7e2d0d6b",
   "metadata": {},
   "outputs": [],
   "source": [
    "y_train.index = train.date\n",
    "y_test.index = test.date"
   ]
  },
  {
   "cell_type": "code",
   "execution_count": 9,
   "id": "4dd88674",
   "metadata": {},
   "outputs": [
    {
     "name": "stdout",
     "output_type": "stream",
     "text": [
      "ADF Statistic: -2.884310\n",
      "p-value: 0.047203\n"
     ]
    }
   ],
   "source": [
    "from statsmodels.tsa.stattools import adfuller\n",
    "from numpy import log\n",
    "result = adfuller(us_rates['unrate'].dropna())\n",
    "print('ADF Statistic: %f' % result[0]) # ADF Statistic: -2.884310\n",
    "print('p-value: %f' % result[1]) # p-value: 0.047203"
   ]
  },
  {
   "cell_type": "code",
   "execution_count": 71,
   "id": "413482d4",
   "metadata": {
    "scrolled": true
   },
   "outputs": [
    {
     "name": "stdout",
     "output_type": "stream",
     "text": [
      "Performing stepwise search to minimize aic\n"
     ]
    },
    {
     "name": "stderr",
     "output_type": "stream",
     "text": [
      "/Users/jamiepark/opt/anaconda3/lib/python3.9/site-packages/statsmodels/tsa/statespace/sarimax.py:1899: RuntimeWarning: invalid value encountered in reciprocal\n",
      "  return np.roots(self.polynomial_reduced_ar)**-1\n"
     ]
    },
    {
     "name": "stdout",
     "output_type": "stream",
     "text": [
      " ARIMA(1,0,1)(0,1,1)[10] intercept   : AIC=inf, Time=0.42 sec\n",
      " ARIMA(0,0,0)(0,1,0)[10] intercept   : AIC=1055.615, Time=0.02 sec\n",
      " ARIMA(1,0,0)(1,1,0)[10] intercept   : AIC=664.259, Time=0.16 sec\n",
      " ARIMA(0,0,1)(0,1,1)[10] intercept   : AIC=826.994, Time=0.17 sec\n",
      " ARIMA(0,0,0)(0,1,0)[10]             : AIC=1053.630, Time=0.02 sec\n",
      " ARIMA(1,0,0)(0,1,0)[10] intercept   : AIC=725.651, Time=0.07 sec\n"
     ]
    },
    {
     "name": "stderr",
     "output_type": "stream",
     "text": [
      "/Users/jamiepark/opt/anaconda3/lib/python3.9/site-packages/statsmodels/tsa/statespace/sarimax.py:1899: RuntimeWarning: invalid value encountered in reciprocal\n",
      "  return np.roots(self.polynomial_reduced_ar)**-1\n"
     ]
    },
    {
     "name": "stdout",
     "output_type": "stream",
     "text": [
      " ARIMA(1,0,0)(2,1,0)[10] intercept   : AIC=636.729, Time=0.37 sec\n",
      " ARIMA(1,0,0)(2,1,1)[10] intercept   : AIC=584.155, Time=0.74 sec\n",
      " ARIMA(1,0,0)(1,1,1)[10] intercept   : AIC=inf, Time=0.39 sec\n",
      " ARIMA(1,0,0)(2,1,2)[10] intercept   : AIC=585.095, Time=1.43 sec\n",
      " ARIMA(1,0,0)(1,1,2)[10] intercept   : AIC=inf, Time=0.95 sec\n",
      " ARIMA(0,0,0)(2,1,1)[10] intercept   : AIC=inf, Time=0.96 sec\n",
      " ARIMA(2,0,0)(2,1,1)[10] intercept   : AIC=585.334, Time=0.69 sec\n",
      " ARIMA(1,0,1)(2,1,1)[10] intercept   : AIC=585.155, Time=0.87 sec\n",
      " ARIMA(0,0,1)(2,1,1)[10] intercept   : AIC=inf, Time=1.19 sec\n",
      " ARIMA(2,0,1)(2,1,1)[10] intercept   : AIC=584.069, Time=1.48 sec\n",
      " ARIMA(2,0,1)(1,1,1)[10] intercept   : AIC=inf, Time=0.59 sec\n"
     ]
    },
    {
     "name": "stderr",
     "output_type": "stream",
     "text": [
      "/Users/jamiepark/opt/anaconda3/lib/python3.9/site-packages/statsmodels/tsa/statespace/sarimax.py:1906: RuntimeWarning: invalid value encountered in reciprocal\n",
      "  return np.roots(self.polynomial_reduced_ma)**-1\n"
     ]
    },
    {
     "name": "stdout",
     "output_type": "stream",
     "text": [
      " ARIMA(2,0,1)(2,1,0)[10] intercept   : AIC=632.152, Time=1.04 sec\n",
      " ARIMA(2,0,1)(2,1,2)[10] intercept   : AIC=586.317, Time=2.54 sec\n"
     ]
    },
    {
     "name": "stderr",
     "output_type": "stream",
     "text": [
      "/Users/jamiepark/opt/anaconda3/lib/python3.9/site-packages/statsmodels/tsa/statespace/sarimax.py:1906: RuntimeWarning: invalid value encountered in reciprocal\n",
      "  return np.roots(self.polynomial_reduced_ma)**-1\n"
     ]
    },
    {
     "name": "stdout",
     "output_type": "stream",
     "text": [
      " ARIMA(2,0,1)(1,1,0)[10] intercept   : AIC=655.193, Time=0.43 sec\n",
      " ARIMA(2,0,1)(1,1,2)[10] intercept   : AIC=inf, Time=1.16 sec\n",
      " ARIMA(3,0,1)(2,1,1)[10] intercept   : AIC=585.892, Time=2.42 sec\n",
      " ARIMA(2,0,2)(2,1,1)[10] intercept   : AIC=585.876, Time=2.23 sec\n",
      " ARIMA(1,0,2)(2,1,1)[10] intercept   : AIC=584.822, Time=1.32 sec\n",
      " ARIMA(3,0,0)(2,1,1)[10] intercept   : AIC=585.344, Time=1.77 sec\n",
      " ARIMA(3,0,2)(2,1,1)[10] intercept   : AIC=586.731, Time=2.69 sec\n",
      " ARIMA(2,0,1)(2,1,1)[10]             : AIC=582.081, Time=1.04 sec\n",
      " ARIMA(2,0,1)(1,1,1)[10]             : AIC=inf, Time=0.54 sec\n"
     ]
    },
    {
     "name": "stderr",
     "output_type": "stream",
     "text": [
      "/Users/jamiepark/opt/anaconda3/lib/python3.9/site-packages/statsmodels/tsa/statespace/sarimax.py:1906: RuntimeWarning: invalid value encountered in reciprocal\n",
      "  return np.roots(self.polynomial_reduced_ma)**-1\n"
     ]
    },
    {
     "name": "stdout",
     "output_type": "stream",
     "text": [
      " ARIMA(2,0,1)(2,1,0)[10]             : AIC=630.172, Time=0.67 sec\n",
      " ARIMA(2,0,1)(2,1,2)[10]             : AIC=583.161, Time=2.17 sec\n"
     ]
    },
    {
     "name": "stderr",
     "output_type": "stream",
     "text": [
      "/Users/jamiepark/opt/anaconda3/lib/python3.9/site-packages/statsmodels/tsa/statespace/sarimax.py:1906: RuntimeWarning: invalid value encountered in reciprocal\n",
      "  return np.roots(self.polynomial_reduced_ma)**-1\n"
     ]
    },
    {
     "name": "stdout",
     "output_type": "stream",
     "text": [
      " ARIMA(2,0,1)(1,1,0)[10]             : AIC=653.196, Time=0.32 sec\n",
      " ARIMA(2,0,1)(1,1,2)[10]             : AIC=inf, Time=0.85 sec\n",
      " ARIMA(1,0,1)(2,1,1)[10]             : AIC=583.166, Time=0.56 sec\n",
      " ARIMA(2,0,0)(2,1,1)[10]             : AIC=583.346, Time=0.62 sec\n",
      " ARIMA(3,0,1)(2,1,1)[10]             : AIC=583.903, Time=1.41 sec\n",
      " ARIMA(2,0,2)(2,1,1)[10]             : AIC=583.887, Time=1.41 sec\n",
      " ARIMA(1,0,0)(2,1,1)[10]             : AIC=582.167, Time=0.53 sec\n",
      " ARIMA(1,0,2)(2,1,1)[10]             : AIC=582.832, Time=0.72 sec\n",
      " ARIMA(3,0,0)(2,1,1)[10]             : AIC=583.354, Time=1.13 sec\n",
      " ARIMA(3,0,2)(2,1,1)[10]             : AIC=584.692, Time=2.54 sec\n",
      "\n",
      "Best model:  ARIMA(2,0,1)(2,1,1)[10]          \n",
      "Total fit time: 40.603 seconds\n"
     ]
    },
    {
     "data": {
      "text/html": [
       "<table class=\"simpletable\">\n",
       "<caption>SARIMAX Results</caption>\n",
       "<tr>\n",
       "  <th>Dep. Variable:</th>                  <td>y</td>               <th>  No. Observations:  </th>    <td>275</td>  \n",
       "</tr>\n",
       "<tr>\n",
       "  <th>Model:</th>           <td>SARIMAX(2, 0, 1)x(2, 1, 1, 10)</td> <th>  Log Likelihood     </th> <td>-284.040</td>\n",
       "</tr>\n",
       "<tr>\n",
       "  <th>Date:</th>                   <td>Mon, 19 Dec 2022</td>        <th>  AIC                </th>  <td>582.081</td>\n",
       "</tr>\n",
       "<tr>\n",
       "  <th>Time:</th>                       <td>14:32:03</td>            <th>  BIC                </th>  <td>607.139</td>\n",
       "</tr>\n",
       "<tr>\n",
       "  <th>Sample:</th>                         <td>0</td>               <th>  HQIC               </th>  <td>592.149</td>\n",
       "</tr>\n",
       "<tr>\n",
       "  <th></th>                             <td> - 275</td>             <th>                     </th>     <td> </td>   \n",
       "</tr>\n",
       "<tr>\n",
       "  <th>Covariance Type:</th>               <td>opg</td>              <th>                     </th>     <td> </td>   \n",
       "</tr>\n",
       "</table>\n",
       "<table class=\"simpletable\">\n",
       "<tr>\n",
       "      <td></td>        <th>coef</th>     <th>std err</th>      <th>z</th>      <th>P>|z|</th>  <th>[0.025</th>    <th>0.975]</th>  \n",
       "</tr>\n",
       "<tr>\n",
       "  <th>ar.L1</th>    <td>    0.2207</td> <td>    0.209</td> <td>    1.057</td> <td> 0.291</td> <td>   -0.189</td> <td>    0.630</td>\n",
       "</tr>\n",
       "<tr>\n",
       "  <th>ar.L2</th>    <td>    0.6826</td> <td>    0.227</td> <td>    3.010</td> <td> 0.003</td> <td>    0.238</td> <td>    1.127</td>\n",
       "</tr>\n",
       "<tr>\n",
       "  <th>ma.L1</th>    <td>    0.8113</td> <td>    0.204</td> <td>    3.971</td> <td> 0.000</td> <td>    0.411</td> <td>    1.212</td>\n",
       "</tr>\n",
       "<tr>\n",
       "  <th>ar.S.L10</th> <td>   -0.0376</td> <td>    0.077</td> <td>   -0.488</td> <td> 0.625</td> <td>   -0.189</td> <td>    0.113</td>\n",
       "</tr>\n",
       "<tr>\n",
       "  <th>ar.S.L20</th> <td>   -0.0638</td> <td>    0.079</td> <td>   -0.803</td> <td> 0.422</td> <td>   -0.220</td> <td>    0.092</td>\n",
       "</tr>\n",
       "<tr>\n",
       "  <th>ma.S.L10</th> <td>   -0.8855</td> <td>    0.066</td> <td>  -13.514</td> <td> 0.000</td> <td>   -1.014</td> <td>   -0.757</td>\n",
       "</tr>\n",
       "<tr>\n",
       "  <th>sigma2</th>   <td>    0.4665</td> <td>    0.008</td> <td>   59.332</td> <td> 0.000</td> <td>    0.451</td> <td>    0.482</td>\n",
       "</tr>\n",
       "</table>\n",
       "<table class=\"simpletable\">\n",
       "<tr>\n",
       "  <th>Ljung-Box (L1) (Q):</th>     <td>0.04</td>  <th>  Jarque-Bera (JB):  </th> <td>375018.54</td>\n",
       "</tr>\n",
       "<tr>\n",
       "  <th>Prob(Q):</th>                <td>0.85</td>  <th>  Prob(JB):          </th>   <td>0.00</td>   \n",
       "</tr>\n",
       "<tr>\n",
       "  <th>Heteroskedasticity (H):</th> <td>70.50</td> <th>  Skew:              </th>   <td>12.32</td>  \n",
       "</tr>\n",
       "<tr>\n",
       "  <th>Prob(H) (two-sided):</th>    <td>0.00</td>  <th>  Kurtosis:          </th>  <td>185.64</td>  \n",
       "</tr>\n",
       "</table><br/><br/>Warnings:<br/>[1] Covariance matrix calculated using the outer product of gradients (complex-step)."
      ],
      "text/plain": [
       "<class 'statsmodels.iolib.summary.Summary'>\n",
       "\"\"\"\n",
       "                                     SARIMAX Results                                      \n",
       "==========================================================================================\n",
       "Dep. Variable:                                  y   No. Observations:                  275\n",
       "Model:             SARIMAX(2, 0, 1)x(2, 1, 1, 10)   Log Likelihood                -284.040\n",
       "Date:                            Mon, 19 Dec 2022   AIC                            582.081\n",
       "Time:                                    14:32:03   BIC                            607.139\n",
       "Sample:                                         0   HQIC                           592.149\n",
       "                                            - 275                                         \n",
       "Covariance Type:                              opg                                         \n",
       "==============================================================================\n",
       "                 coef    std err          z      P>|z|      [0.025      0.975]\n",
       "------------------------------------------------------------------------------\n",
       "ar.L1          0.2207      0.209      1.057      0.291      -0.189       0.630\n",
       "ar.L2          0.6826      0.227      3.010      0.003       0.238       1.127\n",
       "ma.L1          0.8113      0.204      3.971      0.000       0.411       1.212\n",
       "ar.S.L10      -0.0376      0.077     -0.488      0.625      -0.189       0.113\n",
       "ar.S.L20      -0.0638      0.079     -0.803      0.422      -0.220       0.092\n",
       "ma.S.L10      -0.8855      0.066    -13.514      0.000      -1.014      -0.757\n",
       "sigma2         0.4665      0.008     59.332      0.000       0.451       0.482\n",
       "===================================================================================\n",
       "Ljung-Box (L1) (Q):                   0.04   Jarque-Bera (JB):            375018.54\n",
       "Prob(Q):                              0.85   Prob(JB):                         0.00\n",
       "Heteroskedasticity (H):              70.50   Skew:                            12.32\n",
       "Prob(H) (two-sided):                  0.00   Kurtosis:                       185.64\n",
       "===================================================================================\n",
       "\n",
       "Warnings:\n",
       "[1] Covariance matrix calculated using the outer product of gradients (complex-step).\n",
       "\"\"\""
      ]
     },
     "execution_count": 71,
     "metadata": {},
     "output_type": "execute_result"
    }
   ],
   "source": [
    "from statsmodels.tsa.arima_model import ARIMA\n",
    "import pmdarima as pm\n",
    "smodel = pm.auto_arima(us_rates['unrate'], start_p=1, start_q=1,\n",
    "                       test='adf',\n",
    "                       max_p=3, max_q=3, m=10,\n",
    "                       start_P=0, seasonal=True,\n",
    "                       d=None, D=1, trace=True,\n",
    "                       error_action='ignore',  \n",
    "                       suppress_warnings=True, \n",
    "                       stepwise=True)\n",
    "smodel.summary()\n",
    "# Best model:  ARIMA(2,0,1)(2,1,1)[10]"
   ]
  },
  {
   "cell_type": "code",
   "execution_count": 240,
   "id": "44bc01ea",
   "metadata": {},
   "outputs": [
    {
     "data": {
      "image/png": "[encoded data removed]",
      "text/plain": [
       "<Figure size 720x720 with 4 Axes>"
      ]
     },
     "metadata": {
      "needs_background": "light"
     },
     "output_type": "display_data"
    }
   ],
   "source": [
    "smodel.plot_diagnostics(figsize=(10, 10))\n",
    "plt.show()"
   ]
  },
  {
   "cell_type": "code",
   "execution_count": 124,
   "id": "1c49dbe6",
   "metadata": {},
   "outputs": [
    {
     "data": {
      "image/png": "[encoded data removed]",
      "text/plain": [
       "<Figure size 1200x500 with 1 Axes>"
      ]
     },
     "metadata": {
      "needs_background": "light"
     },
     "output_type": "display_data"
    }
   ],
   "source": [
    "# building ARIMA model\n",
    "from statsmodels.tsa.arima.model import ARIMA\n",
    "import pmdarima as pm\n",
    "\n",
    "# forecasting the next 35 unemployment rates\n",
    "normal_predicted, ci = smodel.predict(35, return_conf_int=True)  # 95% conf\n",
    "\n",
    "normal_predicted.index = test.date\n",
    "lower_bound = pd.Series(ci[:, 0], index=test.date)\n",
    "upper_bound = pd.Series(ci[:, 1], index=test.date)\n",
    "\n",
    "# plotting actual vs forecast\n",
    "plt.figure(figsize=(12,5), dpi=100)\n",
    "plt.plot(y_train, color='purple', label='actual')\n",
    "plt.plot(y_test, color='purple')\n",
    "plt.plot(normal_predicted, color='blue', label='forecast')\n",
    "plt.title('US Unemployment Rate')\n",
    "plt.xlabel('Year')\n",
    "plt.ylabel('Rate')\n",
    "plt.legend(loc='upper left', fontsize=8)\n",
    "plt.show()"
   ]
  },
  {
   "cell_type": "code",
   "execution_count": 183,
   "id": "a26ed8b5",
   "metadata": {},
   "outputs": [],
   "source": [
    "import os  \n",
    "os.makedirs('file:///Users/jamiepark/Dropbox/Mac/Desktop/projects/covid_unemployment/data')  \n",
    "unemployment = us_rates.rename({'unrate': 'actual'}, axis=1)\n",
    "temp = pd.concat([pd.DataFrame(y_train).rename({'unrate': 'predicted'}, axis=1), pd.DataFrame(normal_predicted).rename({0: 'predicted'}, axis=1)], axis=0)\n",
    "unemployment.merge(temp, on='date').to_csv('unemployment.csv')"
   ]
  },
  {
   "cell_type": "code",
   "execution_count": 73,
   "id": "7ef2a7e1",
   "metadata": {},
   "outputs": [],
   "source": [
    "labor_market = pd.read_csv('data/FRBKCLMCILA.csv')\n",
    "labor_market.columns = labor_market.columns.str.lower()\n",
    "\n",
    "labor_market.loc[:, 'date'] = labor_market.loc[:, 'date'].apply(lambda x: datetime.strptime(x, '%Y-%m-%d'))\n",
    "\n",
    "# merge\n",
    "merged = pd.merge(us_rates, labor_market, on=\"date\")\n",
    "\n",
    "merged.index = merged['date']\n",
    "merged.drop('date', axis=1, inplace=True)"
   ]
  },
  {
   "cell_type": "code",
   "execution_count": 78,
   "id": "25cb635e",
   "metadata": {},
   "outputs": [
    {
     "name": "stdout",
     "output_type": "stream",
     "text": [
      "Performing stepwise search to minimize aic\n"
     ]
    },
    {
     "name": "stderr",
     "output_type": "stream",
     "text": [
      "/Users/jamiepark/opt/anaconda3/lib/python3.9/site-packages/statsmodels/tsa/statespace/sarimax.py:1899: RuntimeWarning: invalid value encountered in reciprocal\n",
      "  return np.roots(self.polynomial_reduced_ar)**-1\n"
     ]
    },
    {
     "name": "stdout",
     "output_type": "stream",
     "text": [
      " ARIMA(1,0,1)(0,1,1)[10] intercept   : AIC=inf, Time=0.40 sec\n",
      " ARIMA(0,0,0)(0,1,0)[10] intercept   : AIC=1055.615, Time=0.03 sec\n",
      " ARIMA(1,0,0)(1,1,0)[10] intercept   : AIC=664.259, Time=0.17 sec\n",
      " ARIMA(0,0,1)(0,1,1)[10] intercept   : AIC=826.994, Time=0.21 sec\n",
      " ARIMA(0,0,0)(0,1,0)[10]             : AIC=1053.630, Time=0.03 sec\n",
      " ARIMA(1,0,0)(0,1,0)[10] intercept   : AIC=725.651, Time=0.08 sec\n"
     ]
    },
    {
     "name": "stderr",
     "output_type": "stream",
     "text": [
      "/Users/jamiepark/opt/anaconda3/lib/python3.9/site-packages/statsmodels/tsa/statespace/sarimax.py:1899: RuntimeWarning: invalid value encountered in reciprocal\n",
      "  return np.roots(self.polynomial_reduced_ar)**-1\n"
     ]
    },
    {
     "name": "stdout",
     "output_type": "stream",
     "text": [
      " ARIMA(1,0,0)(2,1,0)[10] intercept   : AIC=636.729, Time=0.35 sec\n",
      " ARIMA(1,0,0)(2,1,1)[10] intercept   : AIC=584.155, Time=0.77 sec\n",
      " ARIMA(1,0,0)(1,1,1)[10] intercept   : AIC=inf, Time=0.37 sec\n",
      " ARIMA(1,0,0)(2,1,2)[10] intercept   : AIC=585.095, Time=1.43 sec\n",
      " ARIMA(1,0,0)(1,1,2)[10] intercept   : AIC=inf, Time=0.83 sec\n",
      " ARIMA(0,0,0)(2,1,1)[10] intercept   : AIC=inf, Time=0.92 sec\n",
      " ARIMA(2,0,0)(2,1,1)[10] intercept   : AIC=585.334, Time=0.65 sec\n",
      " ARIMA(1,0,1)(2,1,1)[10] intercept   : AIC=585.155, Time=0.80 sec\n",
      " ARIMA(0,0,1)(2,1,1)[10] intercept   : AIC=inf, Time=1.16 sec\n",
      " ARIMA(2,0,1)(2,1,1)[10] intercept   : AIC=584.069, Time=1.40 sec\n",
      " ARIMA(2,0,1)(1,1,1)[10] intercept   : AIC=inf, Time=0.57 sec\n"
     ]
    },
    {
     "name": "stderr",
     "output_type": "stream",
     "text": [
      "/Users/jamiepark/opt/anaconda3/lib/python3.9/site-packages/statsmodels/tsa/statespace/sarimax.py:1906: RuntimeWarning: invalid value encountered in reciprocal\n",
      "  return np.roots(self.polynomial_reduced_ma)**-1\n"
     ]
    },
    {
     "name": "stdout",
     "output_type": "stream",
     "text": [
      " ARIMA(2,0,1)(2,1,0)[10] intercept   : AIC=632.152, Time=0.91 sec\n",
      " ARIMA(2,0,1)(2,1,2)[10] intercept   : AIC=586.317, Time=1.84 sec\n"
     ]
    },
    {
     "name": "stderr",
     "output_type": "stream",
     "text": [
      "/Users/jamiepark/opt/anaconda3/lib/python3.9/site-packages/statsmodels/tsa/statespace/sarimax.py:1906: RuntimeWarning: invalid value encountered in reciprocal\n",
      "  return np.roots(self.polynomial_reduced_ma)**-1\n"
     ]
    },
    {
     "name": "stdout",
     "output_type": "stream",
     "text": [
      " ARIMA(2,0,1)(1,1,0)[10] intercept   : AIC=655.193, Time=0.48 sec\n",
      " ARIMA(2,0,1)(1,1,2)[10] intercept   : AIC=inf, Time=1.17 sec\n",
      " ARIMA(3,0,1)(2,1,1)[10] intercept   : AIC=585.892, Time=2.19 sec\n",
      " ARIMA(2,0,2)(2,1,1)[10] intercept   : AIC=585.876, Time=2.20 sec\n",
      " ARIMA(1,0,2)(2,1,1)[10] intercept   : AIC=584.822, Time=1.39 sec\n",
      " ARIMA(3,0,0)(2,1,1)[10] intercept   : AIC=585.344, Time=1.81 sec\n",
      " ARIMA(3,0,2)(2,1,1)[10] intercept   : AIC=586.731, Time=2.72 sec\n",
      " ARIMA(2,0,1)(2,1,1)[10]             : AIC=582.081, Time=1.00 sec\n",
      " ARIMA(2,0,1)(1,1,1)[10]             : AIC=inf, Time=0.46 sec\n"
     ]
    },
    {
     "name": "stderr",
     "output_type": "stream",
     "text": [
      "/Users/jamiepark/opt/anaconda3/lib/python3.9/site-packages/statsmodels/tsa/statespace/sarimax.py:1906: RuntimeWarning: invalid value encountered in reciprocal\n",
      "  return np.roots(self.polynomial_reduced_ma)**-1\n"
     ]
    },
    {
     "name": "stdout",
     "output_type": "stream",
     "text": [
      " ARIMA(2,0,1)(2,1,0)[10]             : AIC=630.172, Time=0.63 sec\n",
      " ARIMA(2,0,1)(2,1,2)[10]             : AIC=583.161, Time=1.83 sec\n"
     ]
    },
    {
     "name": "stderr",
     "output_type": "stream",
     "text": [
      "/Users/jamiepark/opt/anaconda3/lib/python3.9/site-packages/statsmodels/tsa/statespace/sarimax.py:1906: RuntimeWarning: invalid value encountered in reciprocal\n",
      "  return np.roots(self.polynomial_reduced_ma)**-1\n"
     ]
    },
    {
     "name": "stdout",
     "output_type": "stream",
     "text": [
      " ARIMA(2,0,1)(1,1,0)[10]             : AIC=653.196, Time=0.30 sec\n",
      " ARIMA(2,0,1)(1,1,2)[10]             : AIC=inf, Time=0.77 sec\n",
      " ARIMA(1,0,1)(2,1,1)[10]             : AIC=583.166, Time=0.50 sec\n",
      " ARIMA(2,0,0)(2,1,1)[10]             : AIC=583.346, Time=0.57 sec\n",
      " ARIMA(3,0,1)(2,1,1)[10]             : AIC=583.903, Time=1.46 sec\n",
      " ARIMA(2,0,2)(2,1,1)[10]             : AIC=583.887, Time=1.29 sec\n",
      " ARIMA(1,0,0)(2,1,1)[10]             : AIC=582.167, Time=0.50 sec\n",
      " ARIMA(1,0,2)(2,1,1)[10]             : AIC=582.832, Time=0.69 sec\n",
      " ARIMA(3,0,0)(2,1,1)[10]             : AIC=583.354, Time=0.81 sec\n",
      " ARIMA(3,0,2)(2,1,1)[10]             : AIC=584.692, Time=2.26 sec\n",
      "\n",
      "Best model:  ARIMA(2,0,1)(2,1,1)[10]          \n",
      "Total fit time: 37.933 seconds\n"
     ]
    },
    {
     "data": {
      "text/html": [
       "<table class=\"simpletable\">\n",
       "<caption>SARIMAX Results</caption>\n",
       "<tr>\n",
       "  <th>Dep. Variable:</th>                  <td>y</td>               <th>  No. Observations:  </th>    <td>275</td>  \n",
       "</tr>\n",
       "<tr>\n",
       "  <th>Model:</th>           <td>SARIMAX(2, 0, 1)x(2, 1, 1, 10)</td> <th>  Log Likelihood     </th> <td>-284.040</td>\n",
       "</tr>\n",
       "<tr>\n",
       "  <th>Date:</th>                   <td>Mon, 19 Dec 2022</td>        <th>  AIC                </th>  <td>582.081</td>\n",
       "</tr>\n",
       "<tr>\n",
       "  <th>Time:</th>                       <td>14:44:59</td>            <th>  BIC                </th>  <td>607.139</td>\n",
       "</tr>\n",
       "<tr>\n",
       "  <th>Sample:</th>                    <td>01-01-2000</td>           <th>  HQIC               </th>  <td>592.149</td>\n",
       "</tr>\n",
       "<tr>\n",
       "  <th></th>                          <td>- 11-01-2022</td>          <th>                     </th>     <td> </td>   \n",
       "</tr>\n",
       "<tr>\n",
       "  <th>Covariance Type:</th>               <td>opg</td>              <th>                     </th>     <td> </td>   \n",
       "</tr>\n",
       "</table>\n",
       "<table class=\"simpletable\">\n",
       "<tr>\n",
       "      <td></td>        <th>coef</th>     <th>std err</th>      <th>z</th>      <th>P>|z|</th>  <th>[0.025</th>    <th>0.975]</th>  \n",
       "</tr>\n",
       "<tr>\n",
       "  <th>ar.L1</th>    <td>    0.2207</td> <td>    0.209</td> <td>    1.057</td> <td> 0.291</td> <td>   -0.189</td> <td>    0.630</td>\n",
       "</tr>\n",
       "<tr>\n",
       "  <th>ar.L2</th>    <td>    0.6826</td> <td>    0.227</td> <td>    3.010</td> <td> 0.003</td> <td>    0.238</td> <td>    1.127</td>\n",
       "</tr>\n",
       "<tr>\n",
       "  <th>ma.L1</th>    <td>    0.8113</td> <td>    0.204</td> <td>    3.971</td> <td> 0.000</td> <td>    0.411</td> <td>    1.212</td>\n",
       "</tr>\n",
       "<tr>\n",
       "  <th>ar.S.L10</th> <td>   -0.0376</td> <td>    0.077</td> <td>   -0.488</td> <td> 0.625</td> <td>   -0.189</td> <td>    0.113</td>\n",
       "</tr>\n",
       "<tr>\n",
       "  <th>ar.S.L20</th> <td>   -0.0638</td> <td>    0.079</td> <td>   -0.803</td> <td> 0.422</td> <td>   -0.220</td> <td>    0.092</td>\n",
       "</tr>\n",
       "<tr>\n",
       "  <th>ma.S.L10</th> <td>   -0.8855</td> <td>    0.066</td> <td>  -13.514</td> <td> 0.000</td> <td>   -1.014</td> <td>   -0.757</td>\n",
       "</tr>\n",
       "<tr>\n",
       "  <th>sigma2</th>   <td>    0.4665</td> <td>    0.008</td> <td>   59.332</td> <td> 0.000</td> <td>    0.451</td> <td>    0.482</td>\n",
       "</tr>\n",
       "</table>\n",
       "<table class=\"simpletable\">\n",
       "<tr>\n",
       "  <th>Ljung-Box (L1) (Q):</th>     <td>0.04</td>  <th>  Jarque-Bera (JB):  </th> <td>375018.54</td>\n",
       "</tr>\n",
       "<tr>\n",
       "  <th>Prob(Q):</th>                <td>0.85</td>  <th>  Prob(JB):          </th>   <td>0.00</td>   \n",
       "</tr>\n",
       "<tr>\n",
       "  <th>Heteroskedasticity (H):</th> <td>70.50</td> <th>  Skew:              </th>   <td>12.32</td>  \n",
       "</tr>\n",
       "<tr>\n",
       "  <th>Prob(H) (two-sided):</th>    <td>0.00</td>  <th>  Kurtosis:          </th>  <td>185.64</td>  \n",
       "</tr>\n",
       "</table><br/><br/>Warnings:<br/>[1] Covariance matrix calculated using the outer product of gradients (complex-step)."
      ],
      "text/plain": [
       "<class 'statsmodels.iolib.summary.Summary'>\n",
       "\"\"\"\n",
       "                                     SARIMAX Results                                      \n",
       "==========================================================================================\n",
       "Dep. Variable:                                  y   No. Observations:                  275\n",
       "Model:             SARIMAX(2, 0, 1)x(2, 1, 1, 10)   Log Likelihood                -284.040\n",
       "Date:                            Mon, 19 Dec 2022   AIC                            582.081\n",
       "Time:                                    14:44:59   BIC                            607.139\n",
       "Sample:                                01-01-2000   HQIC                           592.149\n",
       "                                     - 11-01-2022                                         \n",
       "Covariance Type:                              opg                                         \n",
       "==============================================================================\n",
       "                 coef    std err          z      P>|z|      [0.025      0.975]\n",
       "------------------------------------------------------------------------------\n",
       "ar.L1          0.2207      0.209      1.057      0.291      -0.189       0.630\n",
       "ar.L2          0.6826      0.227      3.010      0.003       0.238       1.127\n",
       "ma.L1          0.8113      0.204      3.971      0.000       0.411       1.212\n",
       "ar.S.L10      -0.0376      0.077     -0.488      0.625      -0.189       0.113\n",
       "ar.S.L20      -0.0638      0.079     -0.803      0.422      -0.220       0.092\n",
       "ma.S.L10      -0.8855      0.066    -13.514      0.000      -1.014      -0.757\n",
       "sigma2         0.4665      0.008     59.332      0.000       0.451       0.482\n",
       "===================================================================================\n",
       "Ljung-Box (L1) (Q):                   0.04   Jarque-Bera (JB):            375018.54\n",
       "Prob(Q):                              0.85   Prob(JB):                         0.00\n",
       "Heteroskedasticity (H):              70.50   Skew:                            12.32\n",
       "Prob(H) (two-sided):                  0.00   Kurtosis:                       185.64\n",
       "===================================================================================\n",
       "\n",
       "Warnings:\n",
       "[1] Covariance matrix calculated using the outer product of gradients (complex-step).\n",
       "\"\"\""
      ]
     },
     "execution_count": 78,
     "metadata": {},
     "output_type": "execute_result"
    }
   ],
   "source": [
    "from statsmodels.tsa.arima.model import ARIMA\n",
    "import pmdarima as pm\n",
    "\n",
    "sxmodel = pm.auto_arima(merged[['unrate']], exogenous=merged[['frbkclmcila']],\n",
    "                        start_p=1, start_q=1,\n",
    "                        test='adf',\n",
    "                        max_p=3, max_q=3, m=10,\n",
    "                        start_P=0, seasonal=True,\n",
    "                        d=None, D=1, trace=True,\n",
    "                        error_action='ignore',  \n",
    "                        suppress_warnings=True, \n",
    "                        stepwise=True)\n",
    "\n",
    "sxmodel.summary()"
   ]
  },
  {
   "cell_type": "code",
   "execution_count": 123,
   "id": "dbcffaaf",
   "metadata": {},
   "outputs": [
    {
     "data": {
      "image/png": "[encoded data removed]",
      "text/plain": [
       "<Figure size 1200x500 with 1 Axes>"
      ]
     },
     "metadata": {
      "needs_background": "light"
     },
     "output_type": "display_data"
    }
   ],
   "source": [
    "exo_predicted, ci = sxmodel.predict(35, exogenous=labor_market['frbkclmcila'],\n",
    "                                    return_conf_int=True)\n",
    "\n",
    "# make series for plotting purpose\n",
    "exo_predicted.index = test.date\n",
    "lower_bound = pd.Series(ci[:, 0], index=test.date)\n",
    "upper_bound = pd.Series(ci[:, 1], index=test.date)\n",
    "\n",
    "# Plot\n",
    "plt.figure(figsize=(12,5), dpi=100)\n",
    "plt.plot(merged[merged.index.year<2020]['unrate'])\n",
    "plt.plot(y_train, color='purple', label='actual')\n",
    "plt.plot(y_test, color='purple')\n",
    "plt.plot(normal_predicted, color='blue', label='forecast')\n",
    "plt.plot(exo_predicted, color='red', label='forecast with COVID')\n",
    "# plt.fill_between(lower_bound.index, \n",
    "#                  lower_bound, \n",
    "#                  upper_bound, \n",
    "#                  color='k', alpha=.15)\n",
    "plt.title('US Unemployment Rate')\n",
    "plt.xlabel('Year')\n",
    "plt.ylabel('Rate')\n",
    "plt.legend(loc='upper left', fontsize=8)\n",
    "plt.show()"
   ]
  },
  {
   "cell_type": "markdown",
   "id": "b2e10d7b",
   "metadata": {},
   "source": [
    "### finding a covid-impacted variable that correlates with unemployment"
   ]
  },
  {
   "cell_type": "code",
   "execution_count": 58,
   "id": "827c397e",
   "metadata": {},
   "outputs": [
    {
     "data": {
      "text/html": [
       "<div>\n",
       "<style scoped>\n",
       "    .dataframe tbody tr th:only-of-type {\n",
       "        vertical-align: middle;\n",
       "    }\n",
       "\n",
       "    .dataframe tbody tr th {\n",
       "        vertical-align: top;\n",
       "    }\n",
       "\n",
       "    .dataframe thead th {\n",
       "        text-align: right;\n",
       "    }\n",
       "</style>\n",
       "<table border=\"1\" class=\"dataframe\">\n",
       "  <thead>\n",
       "    <tr style=\"text-align: right;\">\n",
       "      <th></th>\n",
       "      <th>unrate</th>\n",
       "      <th>totbussmsa</th>\n",
       "    </tr>\n",
       "  </thead>\n",
       "  <tbody>\n",
       "    <tr>\n",
       "      <th>unrate</th>\n",
       "      <td>1.000000</td>\n",
       "      <td>-0.152365</td>\n",
       "    </tr>\n",
       "    <tr>\n",
       "      <th>totbussmsa</th>\n",
       "      <td>-0.152365</td>\n",
       "      <td>1.000000</td>\n",
       "    </tr>\n",
       "  </tbody>\n",
       "</table>\n",
       "</div>"
      ],
      "text/plain": [
       "              unrate  totbussmsa\n",
       "unrate      1.000000   -0.152365\n",
       "totbussmsa -0.152365    1.000000"
      ]
     },
     "execution_count": 58,
     "metadata": {},
     "output_type": "execute_result"
    }
   ],
   "source": [
    "# business revenues\n",
    "business_rev = pd.read_csv('data/TOTBUSSMSA.csv')\n",
    "business_rev.columns = business_rev.columns.str.lower()\n",
    "business_rev.loc[:, 'date'] = business_rev.loc[:, 'date'].apply(lambda x: datetime.strptime(x, '%Y-%m-%d'))\n",
    "merged = us_rates.merge(business_rev, on='date')\n",
    "merged.corr()"
   ]
  },
  {
   "cell_type": "code",
   "execution_count": 57,
   "id": "771d604c",
   "metadata": {},
   "outputs": [
    {
     "data": {
      "text/html": [
       "<div>\n",
       "<style scoped>\n",
       "    .dataframe tbody tr th:only-of-type {\n",
       "        vertical-align: middle;\n",
       "    }\n",
       "\n",
       "    .dataframe tbody tr th {\n",
       "        vertical-align: top;\n",
       "    }\n",
       "\n",
       "    .dataframe thead th {\n",
       "        text-align: right;\n",
       "    }\n",
       "</style>\n",
       "<table border=\"1\" class=\"dataframe\">\n",
       "  <thead>\n",
       "    <tr style=\"text-align: right;\">\n",
       "      <th></th>\n",
       "      <th>unrate</th>\n",
       "      <th>bogz1fu206403131q</th>\n",
       "    </tr>\n",
       "  </thead>\n",
       "  <tbody>\n",
       "    <tr>\n",
       "      <th>unrate</th>\n",
       "      <td>1.000000</td>\n",
       "      <td>0.164646</td>\n",
       "    </tr>\n",
       "    <tr>\n",
       "      <th>bogz1fu206403131q</th>\n",
       "      <td>0.164646</td>\n",
       "      <td>1.000000</td>\n",
       "    </tr>\n",
       "  </tbody>\n",
       "</table>\n",
       "</div>"
      ],
      "text/plain": [
       "                     unrate  bogz1fu206403131q\n",
       "unrate             1.000000           0.164646\n",
       "bogz1fu206403131q  0.164646           1.000000"
      ]
     },
     "execution_count": 57,
     "metadata": {},
     "output_type": "execute_result"
    }
   ],
   "source": [
    "# federal grants\n",
    "fed_grants = pd.read_csv('data/BOGZ1FU206403131Q.csv')\n",
    "fed_grants.columns = fed_grants.columns.str.lower()\n",
    "fed_grants.loc[:, 'date'] = fed_grants.loc[:, 'date'].apply(lambda x: datetime.strptime(x, '%Y-%m-%d'))\n",
    "merged = us_rates.merge(fed_grants, on='date')\n",
    "merged.corr()"
   ]
  },
  {
   "cell_type": "code",
   "execution_count": 56,
   "id": "70859ebd",
   "metadata": {},
   "outputs": [
    {
     "data": {
      "text/html": [
       "<div>\n",
       "<style scoped>\n",
       "    .dataframe tbody tr th:only-of-type {\n",
       "        vertical-align: middle;\n",
       "    }\n",
       "\n",
       "    .dataframe tbody tr th {\n",
       "        vertical-align: top;\n",
       "    }\n",
       "\n",
       "    .dataframe thead th {\n",
       "        text-align: right;\n",
       "    }\n",
       "</style>\n",
       "<table border=\"1\" class=\"dataframe\">\n",
       "  <thead>\n",
       "    <tr style=\"text-align: right;\">\n",
       "      <th></th>\n",
       "      <th>unrate</th>\n",
       "      <th>jtu1000hil</th>\n",
       "    </tr>\n",
       "  </thead>\n",
       "  <tbody>\n",
       "    <tr>\n",
       "      <th>unrate</th>\n",
       "      <td>1.000000</td>\n",
       "      <td>-0.405973</td>\n",
       "    </tr>\n",
       "    <tr>\n",
       "      <th>jtu1000hil</th>\n",
       "      <td>-0.405973</td>\n",
       "      <td>1.000000</td>\n",
       "    </tr>\n",
       "  </tbody>\n",
       "</table>\n",
       "</div>"
      ],
      "text/plain": [
       "              unrate  jtu1000hil\n",
       "unrate      1.000000   -0.405973\n",
       "jtu1000hil -0.405973    1.000000"
      ]
     },
     "execution_count": 56,
     "metadata": {},
     "output_type": "execute_result"
    }
   ],
   "source": [
    "# hire levels\n",
    "hire_levels = pd.read_csv('data/JTU1000HIL.csv')\n",
    "hire_levels.columns = hire_levels.columns.str.lower()\n",
    "hire_levels.loc[:, 'date'] = hire_levels.loc[:, 'date'].apply(lambda x: datetime.strptime(x, '%Y-%m-%d'))\n",
    "merged = us_rates.merge(hire_levels, on='date')\n",
    "merged.corr()"
   ]
  },
  {
   "cell_type": "code",
   "execution_count": 55,
   "id": "a6221b05",
   "metadata": {},
   "outputs": [
    {
     "data": {
      "text/html": [
       "<div>\n",
       "<style scoped>\n",
       "    .dataframe tbody tr th:only-of-type {\n",
       "        vertical-align: middle;\n",
       "    }\n",
       "\n",
       "    .dataframe tbody tr th {\n",
       "        vertical-align: top;\n",
       "    }\n",
       "\n",
       "    .dataframe thead th {\n",
       "        text-align: right;\n",
       "    }\n",
       "</style>\n",
       "<table border=\"1\" class=\"dataframe\">\n",
       "  <thead>\n",
       "    <tr style=\"text-align: right;\">\n",
       "      <th></th>\n",
       "      <th>unrate</th>\n",
       "      <th>frbkclmcila</th>\n",
       "    </tr>\n",
       "  </thead>\n",
       "  <tbody>\n",
       "    <tr>\n",
       "      <th>unrate</th>\n",
       "      <td>1.000000</td>\n",
       "      <td>-0.931296</td>\n",
       "    </tr>\n",
       "    <tr>\n",
       "      <th>frbkclmcila</th>\n",
       "      <td>-0.931296</td>\n",
       "      <td>1.000000</td>\n",
       "    </tr>\n",
       "  </tbody>\n",
       "</table>\n",
       "</div>"
      ],
      "text/plain": [
       "               unrate  frbkclmcila\n",
       "unrate       1.000000    -0.931296\n",
       "frbkclmcila -0.931296     1.000000"
      ]
     },
     "execution_count": 55,
     "metadata": {},
     "output_type": "execute_result"
    }
   ],
   "source": [
    "# labor market levels\n",
    "labor_market = pd.read_csv('data/FRBKCLMCILA.csv')\n",
    "labor_market.columns = labor_market.columns.str.lower()\n",
    "labor_market.loc[:, 'date'] = labor_market.loc[:, 'date'].apply(lambda x: datetime.strptime(x, '%Y-%m-%d'))\n",
    "merged = us_rates.merge(labor_market, on='date')\n",
    "merged.corr()"
   ]
  },
  {
   "cell_type": "code",
   "execution_count": 54,
   "id": "642b2703",
   "metadata": {},
   "outputs": [
    {
     "data": {
      "text/html": [
       "<div>\n",
       "<style scoped>\n",
       "    .dataframe tbody tr th:only-of-type {\n",
       "        vertical-align: middle;\n",
       "    }\n",
       "\n",
       "    .dataframe tbody tr th {\n",
       "        vertical-align: top;\n",
       "    }\n",
       "\n",
       "    .dataframe thead th {\n",
       "        text-align: right;\n",
       "    }\n",
       "</style>\n",
       "<table border=\"1\" class=\"dataframe\">\n",
       "  <thead>\n",
       "    <tr style=\"text-align: right;\">\n",
       "      <th></th>\n",
       "      <th>unrate</th>\n",
       "      <th>w068rcq027sbea</th>\n",
       "    </tr>\n",
       "  </thead>\n",
       "  <tbody>\n",
       "    <tr>\n",
       "      <th>unrate</th>\n",
       "      <td>1.000000</td>\n",
       "      <td>0.189731</td>\n",
       "    </tr>\n",
       "    <tr>\n",
       "      <th>w068rcq027sbea</th>\n",
       "      <td>0.189731</td>\n",
       "      <td>1.000000</td>\n",
       "    </tr>\n",
       "  </tbody>\n",
       "</table>\n",
       "</div>"
      ],
      "text/plain": [
       "                  unrate  w068rcq027sbea\n",
       "unrate          1.000000        0.189731\n",
       "w068rcq027sbea  0.189731        1.000000"
      ]
     },
     "execution_count": 54,
     "metadata": {},
     "output_type": "execute_result"
    }
   ],
   "source": [
    "# gov spending levels\n",
    "gov_spending = pd.read_csv('data/W068RCQ027SBEA.csv')\n",
    "gov_spending.columns = gov_spending.columns.str.lower()\n",
    "gov_spending.loc[:, 'date'] = gov_spending.loc[:, 'date'].apply(lambda x: datetime.strptime(x, '%Y-%m-%d'))\n",
    "merged = us_rates.merge(gov_spending, on='date')\n",
    "merged.corr()"
   ]
  },
  {
   "cell_type": "code",
   "execution_count": 60,
   "id": "3fa09bf3",
   "metadata": {},
   "outputs": [
    {
     "name": "stderr",
     "output_type": "stream",
     "text": [
      "/Users/jamiepark/opt/anaconda3/lib/python3.9/site-packages/openpyxl/styles/stylesheet.py:226: UserWarning: Workbook contains no default style, apply openpyxl's default\n",
      "  warn(\"Workbook contains no default style, apply openpyxl's default\")\n"
     ]
    },
    {
     "data": {
      "text/html": [
       "<div>\n",
       "<style scoped>\n",
       "    .dataframe tbody tr th:only-of-type {\n",
       "        vertical-align: middle;\n",
       "    }\n",
       "\n",
       "    .dataframe tbody tr th {\n",
       "        vertical-align: top;\n",
       "    }\n",
       "\n",
       "    .dataframe thead th {\n",
       "        text-align: right;\n",
       "    }\n",
       "</style>\n",
       "<table border=\"1\" class=\"dataframe\">\n",
       "  <thead>\n",
       "    <tr style=\"text-align: right;\">\n",
       "      <th></th>\n",
       "      <th>unrate</th>\n",
       "      <th>0</th>\n",
       "    </tr>\n",
       "  </thead>\n",
       "  <tbody>\n",
       "    <tr>\n",
       "      <th>unrate</th>\n",
       "      <td>1.000000</td>\n",
       "      <td>-0.475304</td>\n",
       "    </tr>\n",
       "    <tr>\n",
       "      <th>0</th>\n",
       "      <td>-0.475304</td>\n",
       "      <td>1.000000</td>\n",
       "    </tr>\n",
       "  </tbody>\n",
       "</table>\n",
       "</div>"
      ],
      "text/plain": [
       "          unrate         0\n",
       "unrate  1.000000 -0.475304\n",
       "0      -0.475304  1.000000"
      ]
     },
     "execution_count": 60,
     "metadata": {},
     "output_type": "execute_result"
    }
   ],
   "source": [
    "# inflation\n",
    "inflation = pd.read_excel('data/inflation.xlsx')\n",
    "inflation.drop(index=np.arange(0,10,1), inplace=True)\n",
    "inflation.columns = inflation.loc[10]\n",
    "inflation.drop([10], inplace=True)\n",
    "inflation.index = inflation['Year']\n",
    "inflation.drop(['Year', 'Annual', 'HALF1', 'HALF2'], axis=1, inplace=True)\n",
    "inflation = inflation.unstack().reset_index()\n",
    "inflation['date'] = inflation.apply(lambda x: datetime.strptime(x[10] + '-' + str(int(x['Year'])), '%b-%Y'), axis=1)\n",
    "inflation.loc[:, 0] = inflation.loc[:, 0].apply(lambda x: np.float64(x))\n",
    "inflation.drop([10, 'Year'], axis=1, inplace=True)\n",
    "inflation.sort_values('date').reset_index(inplace=True, drop=True)\n",
    "merged = us_rates.merge(inflation, on='date')\n",
    "merged.corr()"
   ]
  },
  {
   "cell_type": "code",
   "execution_count": 61,
   "id": "4c2385e2",
   "metadata": {},
   "outputs": [
    {
     "data": {
      "text/html": [
       "<div>\n",
       "<style scoped>\n",
       "    .dataframe tbody tr th:only-of-type {\n",
       "        vertical-align: middle;\n",
       "    }\n",
       "\n",
       "    .dataframe tbody tr th {\n",
       "        vertical-align: top;\n",
       "    }\n",
       "\n",
       "    .dataframe thead th {\n",
       "        text-align: right;\n",
       "    }\n",
       "</style>\n",
       "<table border=\"1\" class=\"dataframe\">\n",
       "  <thead>\n",
       "    <tr style=\"text-align: right;\">\n",
       "      <th></th>\n",
       "      <th>unrate</th>\n",
       "      <th>jtsjol</th>\n",
       "    </tr>\n",
       "  </thead>\n",
       "  <tbody>\n",
       "    <tr>\n",
       "      <th>unrate</th>\n",
       "      <td>1.000000</td>\n",
       "      <td>-0.539966</td>\n",
       "    </tr>\n",
       "    <tr>\n",
       "      <th>jtsjol</th>\n",
       "      <td>-0.539966</td>\n",
       "      <td>1.000000</td>\n",
       "    </tr>\n",
       "  </tbody>\n",
       "</table>\n",
       "</div>"
      ],
      "text/plain": [
       "          unrate    jtsjol\n",
       "unrate  1.000000 -0.539966\n",
       "jtsjol -0.539966  1.000000"
      ]
     },
     "execution_count": 61,
     "metadata": {},
     "output_type": "execute_result"
    }
   ],
   "source": [
    "# job openings\n",
    "jobs = pd.read_csv('data/JTSJOL.csv')\n",
    "jobs.columns = jobs.columns.str.lower()\n",
    "us_rates['unrate'].corr(jobs['jtsjol'])\n",
    "jobs.loc[:, 'date'] = jobs.loc[:, 'date'].apply(lambda x: datetime.strptime(x, '%Y-%m-%d'))\n",
    "merged = us_rates.merge(jobs, on='date')\n",
    "merged.corr()"
   ]
  },
  {
   "cell_type": "code",
   "execution_count": null,
   "id": "955de918",
   "metadata": {},
   "outputs": [],
   "source": []
  }
 ],
 "metadata": {
  "kernelspec": {
   "display_name": "Python 3 (ipykernel)",
   "language": "python",
   "name": "python3"
  },
  "language_info": {
   "codemirror_mode": {
    "name": "ipython",
    "version": 3
   },
   "file_extension": ".py",
   "mimetype": "text/x-python",
   "name": "python",
   "nbconvert_exporter": "python",
   "pygments_lexer": "ipython3",
   "version": "3.9.12"
  }
 },
 "nbformat": 4,
 "nbformat_minor": 5
}
